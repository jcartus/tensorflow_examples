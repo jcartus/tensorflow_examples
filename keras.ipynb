{
 "cells": [
  {
   "cell_type": "code",
   "execution_count": 3,
   "metadata": {},
   "outputs": [],
   "source": [
    "import numpy as np \n",
    "import matplotlib.pyplot as plt \n",
    "\n",
    "import tensorflow as tf\n",
    "from tensorflow import keras\n",
    "\n",
    "plt.style.use(\"seaborn\")"
   ]
  },
  {
   "cell_type": "code",
   "execution_count": 39,
   "metadata": {},
   "outputs": [],
   "source": [
    "dim_in = 5\n",
    "dim_out = 1\n",
    "\n",
    "def target_function(t):\n",
    "    return np.sum(t, 1).reshape(-1, 1)**2\n",
    "    \n",
    "def sample_data(n_samples):\n",
    "    t = np.random.normal(size=(n_samples, dim_in))\n",
    "    return t, target_function(t)\n",
    "\n",
    "train = sample_data(700)\n",
    "test = sample_data(300)"
   ]
  },
  {
   "cell_type": "code",
   "execution_count": 40,
   "metadata": {},
   "outputs": [],
   "source": [
    "def build_nn(activation, n_layers):\n",
    "    model = keras.Sequential()\n",
    "    \n",
    "    model.add(keras.layers.Dense(10, activation=activation, input_dim=dim_in))\n",
    "    for i in range(n_layers):\n",
    "        model.add(keras.layers.Dense(10, activation=activation))\n",
    "    model.add(keras.layers.Dense(dim_out))\n",
    "    \n",
    "    model.compile(optimizer=tf.train.AdamOptimizer(), loss='MSE')\n",
    "    \n",
    "    return model"
   ]
  },
  {
   "cell_type": "code",
   "execution_count": 45,
   "metadata": {},
   "outputs": [],
   "source": [
    "layers = [5, 10, 15, 20]\n",
    "n_tests = 5\n",
    "epochs = 40"
   ]
  },
  {
   "cell_type": "code",
   "execution_count": 54,
   "metadata": {},
   "outputs": [],
   "source": [
    "def test_activation(activation):\n",
    "    for layer in layers:\n",
    "\n",
    "        error = []\n",
    "        for i in range(n_tests):\n",
    "            print(\"Test \" + str(i+1) + \" ...\")\n",
    "            model = build_nn(activation, layer)\n",
    "            model.fit(train[0], train[1], epochs=epochs, batch_size=40, validation_data=test, verbose=0)\n",
    "            error.append(model.evaluate(test[0], test[1], verbose=0))\n",
    "\n",
    "        print(\"--> {:01d} hidden layers: {:1.4f} +- {:1.4f}\".format(layer, np.mean(error), np.std(error)))"
   ]
  },
  {
   "cell_type": "markdown",
   "metadata": {},
   "source": [
    "# ReLU"
   ]
  },
  {
   "cell_type": "code",
   "execution_count": 59,
   "metadata": {},
   "outputs": [
    {
     "name": "stdout",
     "output_type": "stream",
     "text": [
      "Test 1 ...\n",
      "Test 2 ...\n",
      "Test 3 ...\n",
      "Test 4 ...\n",
      "Test 5 ...\n",
      "--> 5 hidden layers: 0.9851 +- 0.3370\n",
      "Test 1 ...\n",
      "Test 2 ...\n",
      "Test 3 ...\n",
      "Test 4 ...\n",
      "Test 5 ...\n",
      "--> 10 hidden layers: 1.0463 +- 0.3600\n",
      "Test 1 ...\n",
      "Test 2 ...\n",
      "Test 3 ...\n",
      "Test 4 ...\n",
      "Test 5 ...\n",
      "--> 15 hidden layers: 1.1855 +- 0.5735\n",
      "Test 1 ...\n",
      "Test 2 ...\n",
      "Test 3 ...\n",
      "Test 4 ...\n",
      "Test 5 ...\n",
      "--> 20 hidden layers: 10.3589 +- 17.3650\n"
     ]
    }
   ],
   "source": [
    "test_activation(\"relu\")"
   ]
  },
  {
   "cell_type": "markdown",
   "metadata": {},
   "source": [
    "# ELU "
   ]
  },
  {
   "cell_type": "code",
   "execution_count": 60,
   "metadata": {},
   "outputs": [
    {
     "name": "stdout",
     "output_type": "stream",
     "text": [
      "Test 1 ...\n",
      "Test 2 ...\n",
      "Test 3 ...\n",
      "Test 4 ...\n",
      "Test 5 ...\n",
      "--> 5 hidden layers: 1.5566 +- 0.8634\n",
      "Test 1 ...\n",
      "Test 2 ...\n",
      "Test 3 ...\n",
      "Test 4 ...\n",
      "Test 5 ...\n",
      "--> 10 hidden layers: 0.9856 +- 0.3927\n",
      "Test 1 ...\n",
      "Test 2 ...\n",
      "Test 3 ...\n",
      "Test 4 ...\n",
      "Test 5 ...\n",
      "--> 15 hidden layers: 1.2344 +- 0.7970\n",
      "Test 1 ...\n",
      "Test 2 ...\n",
      "Test 3 ...\n",
      "Test 4 ...\n",
      "Test 5 ...\n",
      "--> 20 hidden layers: 0.8102 +- 0.1938\n"
     ]
    }
   ],
   "source": [
    "test_activation(\"elu\")"
   ]
  },
  {
   "cell_type": "markdown",
   "metadata": {},
   "source": [
    "# SELU"
   ]
  },
  {
   "cell_type": "code",
   "execution_count": 57,
   "metadata": {},
   "outputs": [
    {
     "name": "stdout",
     "output_type": "stream",
     "text": [
      "Test 1 ...\n",
      "Test 2 ...\n",
      "Test 3 ...\n",
      "Test 4 ...\n",
      "Test 5 ...\n",
      "--> 5 hidden layers: 1.4322 +- 0.4293\n",
      "Test 1 ...\n",
      "Test 2 ...\n",
      "Test 3 ...\n",
      "Test 4 ...\n",
      "Test 5 ...\n",
      "--> 10 hidden layers: 1.4721 +- 0.2673\n",
      "Test 1 ...\n",
      "Test 2 ...\n",
      "Test 3 ...\n",
      "Test 4 ...\n",
      "Test 5 ...\n",
      "--> 15 hidden layers: 1.7472 +- 0.3362\n",
      "Test 1 ...\n",
      "Test 2 ...\n",
      "Test 3 ...\n",
      "Test 4 ...\n",
      "Test 5 ...\n",
      "--> 20 hidden layers: 3.3672 +- 0.6534\n"
     ]
    }
   ],
   "source": [
    "test_activation(\"selu\")"
   ]
  },
  {
   "cell_type": "code",
   "execution_count": null,
   "metadata": {},
   "outputs": [],
   "source": []
  }
 ],
 "metadata": {
  "kernelspec": {
   "display_name": "Python 3",
   "language": "python",
   "name": "python3"
  },
  "language_info": {
   "codemirror_mode": {
    "name": "ipython",
    "version": 3
   },
   "file_extension": ".py",
   "mimetype": "text/x-python",
   "name": "python",
   "nbconvert_exporter": "python",
   "pygments_lexer": "ipython3",
   "version": "3.6.4"
  }
 },
 "nbformat": 4,
 "nbformat_minor": 2
}
