{
 "cells": [
  {
   "cell_type": "code",
   "execution_count": 2,
   "metadata": {},
   "outputs": [
    {
     "name": "stderr",
     "output_type": "stream",
     "text": [
      "/home/jcartus/anaconda3/lib/python3.6/site-packages/h5py/__init__.py:36: FutureWarning: Conversion of the second argument of issubdtype from `float` to `np.floating` is deprecated. In future, it will be treated as `np.float64 == np.dtype(float).type`.\n",
      "  from ._conv import register_converters as _register_converters\n"
     ]
    }
   ],
   "source": [
    "import numpy as np \n",
    "import matplotlib.pyplot as plt \n",
    "\n",
    "import tensorflow as tf\n",
    "\n",
    "plt.style.use(\"seaborn\")"
   ]
  },
  {
   "cell_type": "code",
   "execution_count": 14,
   "metadata": {},
   "outputs": [],
   "source": [
    "dim_in = 10\n",
    "\n",
    "def target_function(t):\n",
    "    return np.cos(np.sum(t, 1)).reshape(-1, 1)\n",
    "    \n",
    "def sample_data(n_samples):\n",
    "    t = np.random.normal(size=(n_samples, dim_in))\n",
    "    return t, target_function(t)\n",
    "\n",
    "train = sample_data(7000)\n",
    "test = sample_data(3000)"
   ]
  },
  {
   "cell_type": "code",
   "execution_count": 7,
   "metadata": {},
   "outputs": [],
   "source": [
    "def build_nn(t, activation, n_hidden):\n",
    "\n",
    "    # input layer\n",
    "    nn = tf.layers.dense(t, 10, activation=activation)\n",
    "    \n",
    "    # hidden\n",
    "    for i in range(n_hidden):\n",
    "        nn = tf.layers.dense(nn, 10, activation=activation)\n",
    "    \n",
    "    # output layer\n",
    "    return tf.layers.dense(nn, 1, activation=None)"
   ]
  },
  {
   "cell_type": "code",
   "execution_count": 8,
   "metadata": {},
   "outputs": [],
   "source": [
    "x = tf.placeholder(shape=[None, dim_in], dtype=tf.float32)\n",
    "y = tf.placeholder(shape=[None, 1], dtype=tf.float32)\n",
    "\n",
    "nn = build_nn(x, tf.nn.elu, n_hidden=2)\n",
    "cost = tf.reduce_mean((y - nn) **2)\n",
    "traing_step = tf.train.AdamOptimizer().minimize(cost)"
   ]
  },
  {
   "cell_type": "code",
   "execution_count": null,
   "metadata": {},
   "outputs": [],
   "source": [
    "cost_log = ([],[])\n",
    "test_min= 1e10\n",
    "with tf.Session() as sess:\n",
    "    sess.run(tf.global_variables_initializer())\n",
    "    \n",
    "    for step in range(5000):\n",
    "        _, cost_train = sess.run([traing_step, cost], feed_dict={x:train[0], y:train[1]})\n",
    "        cost_test = sess.run(cost, feed_dict={x: test[0], y: test[1]})\n",
    "        \n",
    "        cost_log[0].append(cost_train)\n",
    "        cost_log[1].append(cost_test)\n",
    "        \n",
    "        if cost_test < test_min:\n",
    "            test_min = cost_test\n",
    "print(cost_test)"
   ]
  },
  {
   "cell_type": "code",
   "execution_count": null,
   "metadata": {},
   "outputs": [],
   "source": [
    "plt.plot(cost_log[0], label=\"train\")\n",
    "plt.plot(cost_log[1], label=\"test\")\n",
    "plt.legend()\n",
    "plt.show()"
   ]
  },
  {
   "cell_type": "code",
   "execution_count": null,
   "metadata": {},
   "outputs": [],
   "source": []
  }
 ],
 "metadata": {
  "kernelspec": {
   "display_name": "Python 3",
   "language": "python",
   "name": "python3"
  }
 },
 "nbformat": 4,
 "nbformat_minor": 2
}
